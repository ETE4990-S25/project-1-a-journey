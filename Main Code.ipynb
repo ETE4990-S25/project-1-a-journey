{
 "cells": [
  {
   "cell_type": "code",
   "execution_count": null,
   "metadata": {},
   "outputs": [
    {
     "name": "stdout",
     "output_type": "stream",
     "text": [
      "Off to a land, filled with strife. All alone, but one with life. You were told to become a savior, \n",
      " and yet no one will know your full story.\n",
      "WOW, there were some simple instructions to follow. How the hell are you supposed to survive this narrative?\n",
      "Screw you, there comes Bigfoot running towards you and slaps your head clean off.\n",
      "\n",
      "=== Game Over ===\n",
      "Thanks for playing!\n"
     ]
    },
    {
     "ename": "SystemExit",
     "evalue": "0",
     "output_type": "error",
     "traceback": [
      "An exception has occurred, use %tb to see the full traceback.\n",
      "\u001b[1;31mSystemExit\u001b[0m\u001b[1;31m:\u001b[0m 0\n"
     ]
    }
   ],
   "source": [
    "\n",
    "import sys\n",
    "\n",
    "# Standalone Game Over function\n",
    "def game_over():\n",
    "    print(\"\\n=== Game Over ===\")\n",
    "    return restart_game()\n",
    "\n",
    "# Standalone Restart function\n",
    "def restart_game():\n",
    "    while True:\n",
    "        restart = input(\"Would you like to restart? (Yes/No): \").lower().strip()\n",
    "        if restart == \"yes\":\n",
    "            print(\"\\nRestarting game...\\n\")\n",
    "            return True\n",
    "        elif restart == \"no\":\n",
    "            print(\"Goodbye!\")\n",
    "            return False\n",
    "        else:\n",
    "            print(\"Please enter 'Yes' or 'No' (type 'No' to exit)\")\n",
    "\n",
    "# Function to start the game\n",
    "def start_game():\n",
    "    print(\"Off to a land, filled with strife. All alone, but one with life. You were told to become a savior,\")\n",
    "    print(\"and yet no one will know your full story.\")\n",
    "    \n",
    "    start_input = input(\"A story of One's Path of Legend! Type 'Start Game' to start!: \").strip()\n",
    "    if start_input == \"Start Game\":\n",
    "        print(\"You have chosen a treacherous path... Mother will be so proud of you...\")\n",
    "        return True  # Game can proceed\n",
    "    else:\n",
    "        print(\"WOW, there were some simple instructions to follow.\")\n",
    "        print(\"How the hell are you supposed to survive this narrative?\")\n",
    "        print(\"Screw you, here comes Bigfoot running towards you and slaps your head clean off.\")\n",
    "        return game_over()  # Return True for restart, False for exit\n",
    "\n",
    "# Character creation function\n",
    "def create_character():\n",
    "    class Creating_Character:\n",
    "        def __init__(self):\n",
    "            self.saved_name = input(\"Character Name: \").strip()\n",
    "            print(f\"Hello {self.saved_name}, you sure are a brave one.\")\n",
    "            print(\"Leaving the homestead and starting a journey.\")\n",
    "    \n",
    "    player = Creating_Character()\n",
    "    return player\n",
    "\n",
    "# Main game function\n",
    "def play_game():\n",
    "    should_restart = start_game()\n",
    "    if should_restart is True:  # Start succeeded\n",
    "        player = create_character()\n",
    "        print(\"\\nThe journey begins...\")\n",
    "        return False  # Game continues normally\n",
    "    return should_restart  # True if restart, False if exit\n",
    "\n",
    "# Main game loop\n",
    "running = True\n",
    "while running:\n",
    "    restart = play_game()\n",
    "    if restart:  # If restart is True\n",
    "        continue\n",
    "    else:  # If restart is False (exit or game continues)\n",
    "        running = False"
   ]
  },
  {
   "cell_type": "code",
   "execution_count": null,
   "metadata": {},
   "outputs": [],
   "source": []
  }
 ],
 "metadata": {
  "kernelspec": {
   "display_name": "base",
   "language": "python",
   "name": "python3"
  },
  "language_info": {
   "codemirror_mode": {
    "name": "ipython",
    "version": 3
   },
   "file_extension": ".py",
   "mimetype": "text/x-python",
   "name": "python",
   "nbconvert_exporter": "python",
   "pygments_lexer": "ipython3",
   "version": "3.12.7"
  }
 },
 "nbformat": 4,
 "nbformat_minor": 2
}
