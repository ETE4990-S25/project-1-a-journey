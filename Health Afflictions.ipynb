{
 "cells": [
  {
   "cell_type": "code",
   "execution_count": null,
   "metadata": {},
   "outputs": [],
   "source": [
    "class Items(object):\n",
    "    def __init__(self, name, max_health, health):\n",
    "        self.name = name\n",
    "        self.max_health = max_health\n",
    "        self.health = health\n",
    "\n",
    "class Healing(Items):\n",
    "    def __init__(self, name, max_health, health):\n",
    "        super().__init__(self, name, max_health, health)\n",
    "\n",
    "    def heal_player(self, healing):\n",
    "        if self.health < self.max_health:\n",
    "            self.health = min(self.health + healing, self.max_health)\n",
    "            print(f\"{self.name} healed for {healing} HP. Current health: {self.health}/{self.max_health}\")\n",
    "        else:\n",
    "            print(f\"{self.name} is already at full health!\")\n",
    "\n",
    "class Posion(Items):\n",
    "    def __init__(self, name, max_health, health):\n",
    "        super().__init__(self, name, max_health, health)\n",
    "\n",
    "    def do_damage():\n",
    "        self.health = min(self.health - poison)\n",
    "\n",
    "player = Healing(\"Hero\", 100, 50)\n",
    "player.heal_player(15)  \n",
    "player.heal_player(25)  \n"
   ]
  }
 ],
 "metadata": {
  "language_info": {
   "name": "python"
  }
 },
 "nbformat": 4,
 "nbformat_minor": 2
}
